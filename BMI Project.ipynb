{
 "cells": [
  {
   "cell_type": "markdown",
   "id": "3a02d1e9",
   "metadata": {},
   "source": [
    "# BMI Calculator\n",
    "\n",
    "https://mercer-health.com/services/weight-management-center/bmi-calculator#:~:text=Body%20Mass%20Index%2C%20or%20BMI,inches%20x%20height%20in%20inches"
   ]
  },
  {
   "cell_type": "code",
   "execution_count": 2,
   "id": "0c49a201",
   "metadata": {},
   "outputs": [
    {
     "name": "stdout",
     "output_type": "stream",
     "text": [
      "Enter your name: John\n",
      "Enter you weight in pounds:150\n",
      "Enter you height in inches:67\n",
      "23.490755179327245\n"
     ]
    }
   ],
   "source": [
    "name = input(\"Enter your name: \")\n",
    "\n",
    "weight = int(input(\"Enter you weight in pounds:\"))\n",
    "\n",
    "height = int(input(\"Enter you height in inches:\"))\n",
    "\n",
    "BMI = (weight * 703) / (height * height)\n",
    "\n",
    "print(BMI)\n"
   ]
  },
  {
   "cell_type": "code",
   "execution_count": null,
   "id": "1ca612e9",
   "metadata": {},
   "outputs": [],
   "source": []
  },
  {
   "cell_type": "code",
   "execution_count": null,
   "id": "01db351f",
   "metadata": {},
   "outputs": [],
   "source": [
    "#BMI = (weight in pounds x 703) / (height in inches x height in inches)"
   ]
  },
  {
   "cell_type": "code",
   "execution_count": null,
   "id": "7992f502",
   "metadata": {},
   "outputs": [],
   "source": []
  },
  {
   "cell_type": "code",
   "execution_count": null,
   "id": "fbf0e2a6",
   "metadata": {},
   "outputs": [],
   "source": [
    "Under 18.5\tUnderweight\tMinimal\n",
    "18.5 - 24.9\tNormal Weight\tMinimal\n",
    "25 - 29.9\tOverweight\tIncreased\n",
    "30 - 34.9\tObese\tHigh\n",
    "35 - 39.9\tSeverely Obese\tVery High\n",
    "40 and over\tMorbidly Obese\tExtremely High"
   ]
  },
  {
   "cell_type": "code",
   "execution_count": 5,
   "id": "5cac32eb",
   "metadata": {},
   "outputs": [
    {
     "name": "stdout",
     "output_type": "stream",
     "text": [
      "John, you are normal weight.\n"
     ]
    }
   ],
   "source": [
    "if BMI > 0:\n",
    "    if(BMI <18.5):\n",
    "        print(name + \", you are underweight.\")\n",
    "    elif(BMI <=24.9):\n",
    "        print(name +\", you are normal weight.\")\n",
    "    elif(BMI <= 29.9):\n",
    "        print(name + \",you are overweight.\")\n",
    "    elif(BMI <= 34.9):\n",
    "        print(name + \",you are obese.\")\n",
    "    elif(BMI <= 39.9):\n",
    "        print(name + \",you are severly obese.\")\n",
    "    else:\n",
    "        print(name + \"you are morbidly obese.\")\n",
    "else:\n",
    "    print(\"Enter valid inputs\")\n",
    "   \n",
    "        "
   ]
  },
  {
   "cell_type": "code",
   "execution_count": null,
   "id": "5dbe1ea9",
   "metadata": {},
   "outputs": [],
   "source": []
  },
  {
   "cell_type": "code",
   "execution_count": null,
   "id": "3f5ae039",
   "metadata": {},
   "outputs": [],
   "source": []
  }
 ],
 "metadata": {
  "kernelspec": {
   "display_name": "Python 3 (ipykernel)",
   "language": "python",
   "name": "python3"
  },
  "language_info": {
   "codemirror_mode": {
    "name": "ipython",
    "version": 3
   },
   "file_extension": ".py",
   "mimetype": "text/x-python",
   "name": "python",
   "nbconvert_exporter": "python",
   "pygments_lexer": "ipython3",
   "version": "3.10.9"
  }
 },
 "nbformat": 4,
 "nbformat_minor": 5
}
